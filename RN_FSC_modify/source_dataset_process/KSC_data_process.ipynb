{
 "cells": [
  {
   "cell_type": "code",
   "execution_count": 1,
   "id": "c742b08a",
   "metadata": {},
   "outputs": [],
   "source": [
    "import numpy as np\n",
    "import h5py\n",
    "from scipy.io import loadmat\n",
    "from functools import reduce"
   ]
  },
  {
   "cell_type": "code",
   "execution_count": 2,
   "id": "6bbba7c8",
   "metadata": {},
   "outputs": [],
   "source": [
    "def Patch(data,height_index,width_index,PATCH_SIZE):   # PATCH_SIZE为一个patch（边长-1）的一半    data维度(H,W,C)\n",
    "    height_slice = slice(height_index-PATCH_SIZE, height_index+PATCH_SIZE)\n",
    "    width_slice = slice(width_index-PATCH_SIZE, width_index+PATCH_SIZE)\n",
    "    # 由height_index和width_index定位patch中心像素\n",
    "    patch = data[height_slice, width_slice,:]\n",
    "    patch = patch.reshape(-1,patch.shape[0]*patch.shape[1]*patch.shape[2])\n",
    "    # print(patch.shape)\n",
    "    return patch"
   ]
  },
  {
   "cell_type": "code",
   "execution_count": 3,
   "id": "f1e8e0e9",
   "metadata": {},
   "outputs": [
    {
     "name": "stdout",
     "output_type": "stream",
     "text": [
      "(512, 614, 176)\n"
     ]
    }
   ],
   "source": [
    "img = loadmat('../../dataset/3_Kennedy_Space_Center/KSC.mat')['KSC']\n",
    "gt = loadmat('../../dataset/3_Kennedy_Space_Center/KSC_gt.mat')['KSC_gt']\n",
    "print(img.shape)  # (512, 614, 176)"
   ]
  },
  {
   "cell_type": "code",
   "execution_count": 4,
   "id": "65b28d6c",
   "metadata": {},
   "outputs": [
    {
     "name": "stdout",
     "output_type": "stream",
     "text": [
      "{0: 309157, 8: 431, 12: 503, 13: 927, 11: 419, 5: 161, 1: 761, 4: 252, 6: 229, 2: 243, 3: 256, 10: 404, 7: 105, 9: 520}\n",
      "314368\n"
     ]
    }
   ],
   "source": [
    "# 统计每类样本所含个数\n",
    "dict_k = {}\n",
    "for i in range(gt.shape[0]):\n",
    "    for j in range(gt.shape[1]):\n",
    "        if gt[i][j] in range(0,gt.max()+1):\n",
    "            if gt[i][j] not in dict_k:\n",
    "                dict_k[gt[i][j]]=0\n",
    "            dict_k[gt[i][j]] +=1\n",
    "\n",
    "print(dict_k) \n",
    "# {0: 309157, 8: 431, 12: 503, 13: 927, 11: 419, 5: 161, 1: 761, 4: 252, 6: 229, 2: 243, 3: 256, 10: 404, 7: 105, 9: 520}\n",
    "print(reduce(lambda x,y:x+y,dict_k.values())) #314368\n",
    "\n",
    "# 5211 = 314368 - 309157"
   ]
  },
  {
   "cell_type": "code",
   "execution_count": 5,
   "id": "d7ef74f5",
   "metadata": {},
   "outputs": [
    {
     "name": "stdout",
     "output_type": "stream",
     "text": [
      "(512, 614, 100)\n"
     ]
    },
    {
     "data": {
      "text/plain": [
       "numpy.ndarray"
      ]
     },
     "execution_count": 5,
     "metadata": {},
     "output_type": "execute_result"
    }
   ],
   "source": [
    "'''\n",
    "波段处理\n",
    "'''\n",
    "bands_select = [1, 66, 67, 68, 72, 74, 75, 76, 77, 81, 82, 83, 84, 85, 86, 87, 91, 93, 94, 95, 96, 98, 99, 100, 101, 102, 103, 104, 105, 106, 107, 108, 109, 110, 111, 112, 113, 114, 115, 116, 117, 118, 119, 120, 121, 122, 123, 124, 125, 126, 127, 128, 129, 130, 131, 132, 133, 134, 135, 136, 137, 138, 139, 140, 141, 142, 143, 144, 145, 146, 147, 148, 149, 150, 151, 152, 153, 154, 155, 156, 157, 158, 159, 160, 161, 162, 163, 164, 165, 166, 167, 168, 169, 170, 171, 172, 173, 174, 175, 176]\n",
    "for i in range(len(bands_select)):\n",
    "    bands_select[i] = bands_select[i] - 1 \n",
    "# print(bands_select)\n",
    "\n",
    "'''\n",
    "波段选择\n",
    "'''\n",
    "img = img[:, :, bands_select]\n",
    "print(img.shape)\n",
    "\n",
    "'''\n",
    "图像归一化\n",
    "'''\n",
    "img = ( img * 1.0 - img.min() ) / ( img.max() - img.min() )\n",
    "type(img)"
   ]
  },
  {
   "cell_type": "code",
   "execution_count": 6,
   "id": "4f0bf020",
   "metadata": {},
   "outputs": [
    {
     "name": "stdout",
     "output_type": "stream",
     "text": [
      "13\n"
     ]
    }
   ],
   "source": [
    "[m, n, b] = img.shape\n",
    "label_num = gt.max()\n",
    "print(label_num)\n",
    "PATCH_SIZE = 14"
   ]
  },
  {
   "cell_type": "code",
   "execution_count": 7,
   "id": "8c6a9de4",
   "metadata": {},
   "outputs": [
    {
     "data": {
      "text/plain": [
       "((540, 642, 100), (540, 642))"
      ]
     },
     "execution_count": 7,
     "metadata": {},
     "output_type": "execute_result"
    }
   ],
   "source": [
    "# padding the hyperspectral images\n",
    "img_temp = np.zeros((m + 2 * PATCH_SIZE, n + 2 * PATCH_SIZE, b), dtype=np.float32)\n",
    "img_temp[PATCH_SIZE:(m + PATCH_SIZE), PATCH_SIZE:(n + PATCH_SIZE), :] = img[:, :, :]\n",
    "\n",
    "for i in range(PATCH_SIZE):\n",
    "    img_temp[i, :, :] = img_temp[2 * PATCH_SIZE - i, :, :]\n",
    "    img_temp[m + PATCH_SIZE + i, :, :] = img_temp[m + PATCH_SIZE - i - 2, :, :]\n",
    "\n",
    "for i in range(PATCH_SIZE):\n",
    "    img_temp[:, i, :] = img_temp[:, 2 * PATCH_SIZE - i, :]\n",
    "    img_temp[:, n + PATCH_SIZE + i, :] = img_temp[:, n + PATCH_SIZE  - i - 2, :]\n",
    "\n",
    "img = img_temp\n",
    "\n",
    "gt_temp = np.zeros((m + 2 * PATCH_SIZE, n + 2 * PATCH_SIZE), dtype=np.int8)\n",
    "gt_temp[PATCH_SIZE:(m + PATCH_SIZE), PATCH_SIZE:(n + PATCH_SIZE)] = gt[:, :]\n",
    "gt = gt_temp\n",
    "\n",
    "img.shape, gt.shape"
   ]
  },
  {
   "cell_type": "code",
   "execution_count": 8,
   "id": "a13ebdf1",
   "metadata": {},
   "outputs": [],
   "source": [
    "data = []\n",
    "label = []\n",
    "[m, n, b] = img.shape\n",
    "count = 0 #统计有多少个类别不为0的pixel"
   ]
  },
  {
   "cell_type": "code",
   "execution_count": 9,
   "id": "047b5387",
   "metadata": {},
   "outputs": [
    {
     "name": "stdout",
     "output_type": "stream",
     "text": [
      "5211\n"
     ]
    }
   ],
   "source": [
    "for i in range(PATCH_SIZE, m - PATCH_SIZE):\n",
    "    for j in range(PATCH_SIZE, n - PATCH_SIZE):\n",
    "        if gt[i, j] == 0:\n",
    "            continue\n",
    "        else:\n",
    "            count += 1\n",
    "            temp_data = Patch(img, i, j, PATCH_SIZE)\n",
    "            # temp_label = np.zeros((1, label_num), dtype=np.int8)  # temp_label为一行九列[0,1,2,....,7,8]表示类别\n",
    "            temp_label = gt[i, j] - 1\n",
    "\n",
    "            data.append(temp_data)  # 每一行表示一个patch\n",
    "            label.append(temp_label)\n",
    "print(count)"
   ]
  },
  {
   "cell_type": "code",
   "execution_count": 10,
   "id": "3928582b",
   "metadata": {},
   "outputs": [
    {
     "name": "stdout",
     "output_type": "stream",
     "text": [
      "(5211, 1, 78400)\n",
      "squeeze :  (5211, 78400)\n",
      "(5211,)\n",
      "squeeze :  (5211,)\n"
     ]
    },
    {
     "data": {
      "text/plain": [
       "' squeeze :  (5211,) '"
      ]
     },
     "execution_count": 10,
     "metadata": {},
     "output_type": "execute_result"
    }
   ],
   "source": [
    "data = np.array(data)\n",
    "print(data.shape)\n",
    "''' (5211, 1, 78400) '''\n",
    "\n",
    "data = np.squeeze(data)\n",
    "print(\"squeeze : \", data.shape)\n",
    "''' squeeze :  (5211, 78400) '''\n",
    "\n",
    "\n",
    "label = np.array(label)\n",
    "print(label.shape)\n",
    "''' (5211,) '''\n",
    "\n",
    "label = np.squeeze(label)\n",
    "print(\"squeeze : \", label.shape)\n",
    "''' squeeze :  (5211,) '''"
   ]
  },
  {
   "cell_type": "code",
   "execution_count": 12,
   "id": "d269917f",
   "metadata": {},
   "outputs": [
    {
     "name": "stdout",
     "output_type": "stream",
     "text": [
      "<class 'numpy.ndarray'>\n",
      "{0: 0, 1: 0, 2: 0, 3: 0, 4: 0, 5: 0, 6: 0, 7: 0, 8: 0, 9: 0, 10: 0, 11: 0, 12: 0}\n",
      "{0: 761, 1: 243, 2: 256, 3: 252, 4: 161, 5: 229, 6: 105, 7: 431, 8: 520, 9: 404, 10: 419, 11: 503, 12: 927}\n",
      "5211\n"
     ]
    }
   ],
   "source": [
    "print(type(label))\n",
    "ksc_dict = {}\n",
    "ksc_dict = ksc_dict.fromkeys([i for i in range(label_num)], 0)\n",
    "print(ksc_dict)\n",
    "\n",
    "for i in label:\n",
    "    if i in ksc_dict:\n",
    "        ksc_dict[i] += 1\n",
    "print(ksc_dict)\n",
    "ksc_label_sum = sum(ksc_dict.values())\n",
    "print(ksc_label_sum)"
   ]
  },
  {
   "cell_type": "code",
   "execution_count": 11,
   "id": "aec4071c",
   "metadata": {},
   "outputs": [],
   "source": [
    "indices = np.arange(data.shape[0]) \n",
    "# (5211,)\n",
    "shuffled_indices = np.random.permutation(indices)\n",
    "# (5211,)\n",
    "images = data[shuffled_indices]\n",
    "# (5211, 78400)\n",
    "labels = label[shuffled_indices]\n",
    "# (5211,)"
   ]
  },
  {
   "cell_type": "code",
   "execution_count": 12,
   "id": "089f100a",
   "metadata": {},
   "outputs": [
    {
     "data": {
      "text/plain": [
       "((5211,), (5211,), (5211, 78400), (5211,))"
      ]
     },
     "execution_count": 12,
     "metadata": {},
     "output_type": "execute_result"
    }
   ],
   "source": [
    "indices.shape, shuffled_indices.shape, images.shape, labels.shape"
   ]
  },
  {
   "cell_type": "code",
   "execution_count": 13,
   "id": "b8444ffc",
   "metadata": {},
   "outputs": [],
   "source": [
    "t_labeled = []\n",
    "\n",
    "dict_sample = \\\n",
    "{'0': 309157, '8': 431, '12': 503, '13': 927, '11': 419, '5': 161, '1': 761, '4': 252, '6': 229, '2': 243, '3': 256, '10': 404, '7': 105, '9': 520}\n",
    "\n",
    "for c in range(label_num): \n",
    "    if dict_sample[str(c+1)]<200:   # ''' 标记样本数小于200的不要'''\n",
    "       pass\n",
    "    else:\n",
    "        i = indices[labels == c][:200]\n",
    "        t_labeled += list(i)"
   ]
  },
  {
   "cell_type": "code",
   "execution_count": 14,
   "id": "538af98a",
   "metadata": {},
   "outputs": [
    {
     "name": "stdout",
     "output_type": "stream",
     "text": [
      "t_images (2200, 78400)\n",
      "t_labels (2200,)\n"
     ]
    },
    {
     "data": {
      "text/plain": [
       "'\\nt_images (2066, 78400)\\nt_labels (2066,)\\n'"
      ]
     },
     "execution_count": 14,
     "metadata": {},
     "output_type": "execute_result"
    }
   ],
   "source": [
    "t_images = images[t_labeled]\n",
    "print('t_images', t_images.shape)\n",
    "t_labels = labels[t_labeled]\n",
    "print('t_labels', t_labels.shape)\n",
    "\n",
    "'''\n",
    "t_images (2066, 78400)\n",
    "t_labels (2066,)\n",
    "'''"
   ]
  },
  {
   "cell_type": "code",
   "execution_count": 15,
   "id": "70505301",
   "metadata": {},
   "outputs": [
    {
     "name": "stdout",
     "output_type": "stream",
     "text": [
      "success\n"
     ]
    }
   ],
   "source": [
    "f = h5py.File(r'../../h5dataset_ica_bandselect/KSC-' + str(PATCH_SIZE * 2) + '-' + str(PATCH_SIZE * 2) + '-100.h5', 'w')  # 每类200个\n",
    "f['data'] = images\n",
    "f['label'] = labels\n",
    "f.close()\n",
    "\n",
    "f = h5py.File(r'../../h5dataset_ica_bandselect_200/KSC-' + str(PATCH_SIZE * 2) + '-' + str(PATCH_SIZE * 2) + '-100.h5', 'w')  # 每类200个\n",
    "f['data'] = t_images\n",
    "f['label'] = t_labels\n",
    "f.close()\n",
    "\n",
    "print(\"success\")"
   ]
  },
  {
   "cell_type": "code",
   "execution_count": 16,
   "id": "41073489",
   "metadata": {},
   "outputs": [
    {
     "name": "stdout",
     "output_type": "stream",
     "text": [
      "['data', 'label']\n",
      "(5211, 78400)\n",
      "(5211,)\n"
     ]
    }
   ],
   "source": [
    "#HDF5的读取\n",
    "f = h5py.File('../../h5dataset_ica_bandselect/KSC-28-28-100.h5','r')   #打开h5文件  # 可以查看所有的主键  \n",
    "# print(type(f))\n",
    "\n",
    "print([key for key in f.keys()])\n",
    "\n",
    "# print('first, we get values of x:', f['data'][:])\n",
    "# print('then, we get values of y:', f['label'][:])\n",
    "print(f['data'][:].shape)\n",
    "print(f['label'][:].shape)"
   ]
  },
  {
   "cell_type": "code",
   "execution_count": 17,
   "id": "038ca1d1",
   "metadata": {},
   "outputs": [
    {
     "name": "stdout",
     "output_type": "stream",
     "text": [
      "['data', 'label']\n",
      "(2200, 78400)\n",
      "(2200,)\n"
     ]
    }
   ],
   "source": [
    "#HDF5的读取\n",
    "f = h5py.File('../../h5dataset_ica_bandselect_200/KSC-28-28-100.h5','r')   #打开h5文件  # 可以查看所有的主键  \n",
    "# print(type(f))\n",
    "\n",
    "print([key for key in f.keys()])\n",
    "\n",
    "# print('first, we get values of x:', f['data'][:])\n",
    "# print('then, we get values of y:', f['label'][:])\n",
    "print(f['data'][:].shape)\n",
    "print(f['label'][:].shape)"
   ]
  },
  {
   "cell_type": "code",
   "execution_count": 18,
   "id": "08f6de71",
   "metadata": {},
   "outputs": [
    {
     "name": "stdout",
     "output_type": "stream",
     "text": [
      "['data', 'label']\n",
      "(2200, 78400)\n",
      "(2200,)\n"
     ]
    }
   ],
   "source": [
    "#HDF5的读取\n",
    "f = h5py.File('../../h5dataset/KSC-28-28-100.h5','r')   #打开h5文件  # 可以查看所有的主键  \n",
    "# print(type(f))\n",
    "\n",
    "print([key for key in f.keys()])\n",
    "\n",
    "# print('first, we get values of x:', f['data'][:])\n",
    "# print('then, we get values of y:', f['label'][:])\n",
    "print(f['data'][:].shape)\n",
    "print(f['label'][:].shape)\n"
   ]
  },
  {
   "cell_type": "code",
   "execution_count": null,
   "id": "ce197f56",
   "metadata": {},
   "outputs": [],
   "source": []
  }
 ],
 "metadata": {
  "kernelspec": {
   "display_name": "DLPTH112",
   "language": "python",
   "name": "pth112"
  },
  "language_info": {
   "codemirror_mode": {
    "name": "ipython",
    "version": 3
   },
   "file_extension": ".py",
   "mimetype": "text/x-python",
   "name": "python",
   "nbconvert_exporter": "python",
   "pygments_lexer": "ipython3",
   "version": "3.9.16"
  }
 },
 "nbformat": 4,
 "nbformat_minor": 5
}
