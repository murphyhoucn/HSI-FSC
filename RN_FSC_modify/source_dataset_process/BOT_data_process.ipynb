{
 "cells": [
  {
   "cell_type": "code",
   "execution_count": 1,
   "id": "4c98ea3c",
   "metadata": {},
   "outputs": [],
   "source": [
    "import numpy as np\n",
    "import h5py\n",
    "from scipy.io import loadmat"
   ]
  },
  {
   "cell_type": "code",
   "execution_count": 2,
   "id": "8723ef2a",
   "metadata": {},
   "outputs": [],
   "source": [
    "def Patch(data,height_index,width_index,PATCH_SIZE):   # PATCH_SIZE为一个patch（边长-1）的一半    data维度(H,W,C)\n",
    "    height_slice = slice(height_index-PATCH_SIZE, height_index+PATCH_SIZE)\n",
    "    width_slice = slice(width_index-PATCH_SIZE, width_index+PATCH_SIZE)\n",
    "    # 由height_index和width_index定位patch中心像素\n",
    "    patch = data[height_slice, width_slice,:]\n",
    "    patch = patch.reshape(-1,patch.shape[0]*patch.shape[1]*patch.shape[2])\n",
    "    # print(patch.shape)\n",
    "    return patch"
   ]
  },
  {
   "cell_type": "code",
   "execution_count": 3,
   "id": "9141f672",
   "metadata": {},
   "outputs": [
    {
     "name": "stdout",
     "output_type": "stream",
     "text": [
      "(1476, 256, 145)\n",
      "(1476, 256)\n"
     ]
    },
    {
     "data": {
      "text/plain": [
       "'\\n(1476, 256, 145)\\n(1476, 256)\\n'"
      ]
     },
     "execution_count": 3,
     "metadata": {},
     "output_type": "execute_result"
    }
   ],
   "source": [
    "img = loadmat('../../dataset/2_Botswana/Botswana.mat')['Botswana']\n",
    "print(img.shape)\n",
    "gt = loadmat('../../dataset/2_Botswana/Botswana_gt')['Botswana_gt']\n",
    "print(gt.shape)\n",
    "\n",
    "'''\n",
    "(1476, 256, 145)\n",
    "(1476, 256)\n",
    "'''"
   ]
  },
  {
   "cell_type": "code",
   "execution_count": 4,
   "id": "e4b1c3b8",
   "metadata": {},
   "outputs": [
    {
     "name": "stdout",
     "output_type": "stream",
     "text": [
      "{0: 374608, 14: 95, 12: 181, 13: 268, 11: 305, 10: 248, 9: 314, 7: 259, 1: 270, 2: 101, 5: 269, 8: 203, 6: 269, 3: 251, 4: 215}\n"
     ]
    },
    {
     "data": {
      "text/plain": [
       "'\\n{0: 374608, 14: 95, 12: 181, 13: 268, 11: 305, 10: 248, 9: 314, 7: 259, 1: 270, 2: 101, 5: 269, 8: 203, 6: 269, 3: 251, 4: 215}\\n'"
      ]
     },
     "execution_count": 4,
     "metadata": {},
     "output_type": "execute_result"
    }
   ],
   "source": [
    "dict_k = {}\n",
    "for i in range(gt.shape[0]):\n",
    "    for j in range(gt.shape[1]):\n",
    "        if gt[i][j] in range(0, 16):\n",
    "            if gt[i][j] not in dict_k:\n",
    "                dict_k[gt[i][j]] = 0\n",
    "            dict_k[gt[i][j]] += 1\n",
    "\n",
    "print(dict_k)  \n",
    "\n",
    "'''\n",
    "{0: 374608, 14: 95, 12: 181, 13: 268, 11: 305, 10: 248, 9: 314, 7: 259, 1: 270, 2: 101, 5: 269, 8: 203, 6: 269, 3: 251, 4: 215}\n",
    "'''"
   ]
  },
  {
   "cell_type": "code",
   "execution_count": 5,
   "id": "60c5a2a7",
   "metadata": {},
   "outputs": [
    {
     "name": "stdout",
     "output_type": "stream",
     "text": [
      "(1476, 256, 100)\n"
     ]
    },
    {
     "data": {
      "text/plain": [
       "numpy.ndarray"
      ]
     },
     "execution_count": 5,
     "metadata": {},
     "output_type": "execute_result"
    }
   ],
   "source": [
    "'''\n",
    "波段处理\n",
    "'''\n",
    "bands_select = [1, 2, 3, 4, 5, 6, 7, 8, 9, 10, 11, 12, 13, 14, 15, 16, 17, 18, 19, 20, 21, 22, 23, 24, 25, 26, 27, 28, 29, 30, 31, 32, 33, 34, 35, 36, 37, 38, 39, 40, 41, 42, 43, 44, 45, 46, 47, 48, 49, 50, 51, 52, 53, 54, 55, 56, 57, 58, 59, 60, 61, 62, 63, 64, 65, 66, 67, 68, 69, 70, 71, 72, 73, 74, 75, 76, 77, 78, 79, 83, 84, 85, 86, 87, 88, 89, 90, 91, 92, 93, 94, 95, 96, 97, 98, 99, 100, 101, 102, 103]\n",
    "for i in range(len(bands_select)):\n",
    "    bands_select[i] = bands_select[i] - 1 \n",
    "# print(bands_select)\n",
    "\n",
    "'''\n",
    "波段选择\n",
    "'''\n",
    "img = img[:, :, bands_select]\n",
    "print(img.shape)\n",
    "\n",
    "'''\n",
    "图像归一化\n",
    "'''\n",
    "img = ( img * 1.0 - img.min() ) / ( img.max() - img.min() )\n",
    "type(img)"
   ]
  },
  {
   "cell_type": "code",
   "execution_count": 6,
   "id": "77263ca0",
   "metadata": {},
   "outputs": [
    {
     "name": "stdout",
     "output_type": "stream",
     "text": [
      "14\n"
     ]
    },
    {
     "data": {
      "text/plain": [
       "'\\n\\n'"
      ]
     },
     "execution_count": 6,
     "metadata": {},
     "output_type": "execute_result"
    }
   ],
   "source": [
    "[m, n, b] = img.shape\n",
    "label_num = gt.max()  \n",
    "PATCH_SIZE = 14\n",
    "print(label_num)\n",
    "'''\n",
    "最大为14，即除0外包括14类\n",
    "'''\n",
    "\n",
    "'''\n",
    "\n",
    "'''"
   ]
  },
  {
   "cell_type": "code",
   "execution_count": 7,
   "id": "0a927d31",
   "metadata": {},
   "outputs": [],
   "source": [
    "# temp_label = np.zeros((1, label_num), dtype=np.int8) \n",
    "# temp_label, temp_label.shape"
   ]
  },
  {
   "cell_type": "code",
   "execution_count": 8,
   "id": "0aae1993",
   "metadata": {},
   "outputs": [
    {
     "name": "stdout",
     "output_type": "stream",
     "text": [
      "(1504, 284, 100)\n",
      "(1504, 284)\n"
     ]
    },
    {
     "data": {
      "text/plain": [
       "'\\n(1504, 284, 100)\\n(1504, 284)\\n'"
      ]
     },
     "execution_count": 8,
     "metadata": {},
     "output_type": "execute_result"
    }
   ],
   "source": [
    "# padding the hyperspectral images\n",
    "img_temp = np.zeros((m + 2 * PATCH_SIZE, n + 2 * PATCH_SIZE, b), dtype=np.float32)\n",
    "img_temp[PATCH_SIZE:(m + PATCH_SIZE), PATCH_SIZE:(n + PATCH_SIZE), :] = img[:, :, :]\n",
    "\n",
    "for i in range(PATCH_SIZE):\n",
    "    img_temp[i, :, :] = img_temp[2 * PATCH_SIZE - i, :, :]\n",
    "    img_temp[m + PATCH_SIZE + i, :, :] = img_temp[m + PATCH_SIZE - i - 2, :, :]\n",
    "\n",
    "for i in range(PATCH_SIZE):\n",
    "    img_temp[:, i, :] = img_temp[:, 2 * PATCH_SIZE - i, :]\n",
    "    img_temp[:, n + PATCH_SIZE + i, :] = img_temp[:, n + PATCH_SIZE  - i - 2, :]\n",
    "\n",
    "img = img_temp\n",
    "\n",
    "gt_temp = np.zeros((m + 2 * PATCH_SIZE, n + 2 * PATCH_SIZE), dtype=np.int8)\n",
    "gt_temp[PATCH_SIZE:(m + PATCH_SIZE), PATCH_SIZE:(n + PATCH_SIZE)] = gt[:, :]\n",
    "gt = gt_temp\n",
    "\n",
    "print(img.shape)\n",
    "print(gt.shape)\n",
    "\n",
    "'''\n",
    "(1504, 284, 100)\n",
    "(1504, 284)\n",
    "'''"
   ]
  },
  {
   "cell_type": "code",
   "execution_count": 9,
   "id": "5113533d",
   "metadata": {},
   "outputs": [],
   "source": [
    "[m, n, b] = img.shape\n",
    "data = []\n",
    "label = []\n",
    "count = 0"
   ]
  },
  {
   "cell_type": "code",
   "execution_count": 10,
   "id": "dcf8e4a7",
   "metadata": {},
   "outputs": [
    {
     "data": {
      "text/plain": [
       "(1504, 284, 100)"
      ]
     },
     "execution_count": 10,
     "metadata": {},
     "output_type": "execute_result"
    }
   ],
   "source": [
    "m, n ,b"
   ]
  },
  {
   "cell_type": "code",
   "execution_count": 11,
   "id": "7e01145f",
   "metadata": {},
   "outputs": [
    {
     "name": "stdout",
     "output_type": "stream",
     "text": [
      "3248\n"
     ]
    },
    {
     "data": {
      "text/plain": [
       "'\\n3248\\n'"
      ]
     },
     "execution_count": 11,
     "metadata": {},
     "output_type": "execute_result"
    }
   ],
   "source": [
    "for i in range(PATCH_SIZE, m - PATCH_SIZE):  # 没有patch的那一部分，也就是原来的图像\n",
    "    for j in range(PATCH_SIZE, n - PATCH_SIZE):\n",
    "        if gt[i, j] == 0:\n",
    "            continue\n",
    "        else:\n",
    "            count += 1\n",
    "            temp_data = Patch(img, i, j, PATCH_SIZE)\n",
    "            temp_label = gt[i, j] - 1\n",
    "\n",
    "            data.append(temp_data)  # 每一行表示一个patch\n",
    "            label.append(temp_label)\n",
    "print(count)\n",
    "\n",
    "'''\n",
    "3248\n",
    "'''"
   ]
  },
  {
   "cell_type": "code",
   "execution_count": 13,
   "id": "6f829054",
   "metadata": {
    "scrolled": true
   },
   "outputs": [
    {
     "name": "stdout",
     "output_type": "stream",
     "text": [
      "(3248, 78400)\n",
      "squeeze :  (3248, 78400)\n",
      "(3248,)\n",
      "squeeze :  (3248,)\n",
      "[13 13 13 13 13 13 13 13 13 13 13 13 13 13 13 13 13 13 13 13 13 13 13 13\n",
      " 13 13 13 13 13 13 13 13 13 13 13 13 13 13 13 13 13 13 13 13 13 13 13 13\n",
      " 13 13 13 13 13 13 13 13 13 13 13 13 13 13 13 13 13 13 13 13 13 13 13 13\n",
      " 13 13 13 13 13 13 13 11 11 11 11 11 11 11 11 11 11 11 11 11 11 11 11 11\n",
      " 11 11 11 11 11 11 11 11 11 11 11 11 11 11 11 11 11 11 11 11 11 11 11 11\n",
      " 11 11 11 11 11 11 11 11 11 11 11 11 11 11 11 11 11 11 11 11 11 11 11 11\n",
      " 11 11 11 11 11 11 11 11 11 11 11 11 11 11 11 11 11 11 11 11 11 11 11 11\n",
      " 11 11 11 11 11 11 11 11 11 11 11 11 11 11 11 11 11 11 11 11 11 11 11 11\n",
      " 11 11 11 11 11 11 11 11 11 11 11 11 11 11 11 11 11 11 11 11 11 11 11 11\n",
      " 11 11 11 11 11 11 11 11 11 11 11 11 11 11 11 11 11 11 11 11 11 11 11 11\n",
      " 11 11 11 11 11 11 11 11 11 11 11 11 11 11 11 11 11 11 11 11 12 12 12 12\n",
      " 12 12 12 12 12 12 12 12 12 12 12 12 12 12 12 12 12 12 12 12 12 12 12 12\n",
      " 12 12 12 12 12 12 12 12 12 12 12 12 12 12 12 12 12 12 12 12 12 12 12 12\n",
      " 12 12 12 12 12 12 12 12 12 12 12 12 12 12 12 12 12 12 12 12 12 12 12 12\n",
      " 12 12 12 12 12 12 12 12 12 12 12 12 12 12 12 12 12 12 12 12 12 12 12 12\n",
      " 12 12 12 12 12 12 12 12 12 12 12 12 12 12 12 12 12 12 12 12 12 12 12 12\n",
      " 12 12 12 12 12 12 12 12 12 12 12 12 12 12 12 12 12 12 12 12 12 12 12 12\n",
      " 12 12 12 12 12 12 12 12 12 12 12 12 12 12 12 12 12 12 12 12 12 12 12 12\n",
      " 12 12 12 12 12 12 12 12 12 12 12 12 12 12 12 12 12 12 12 12 12 12 12 12\n",
      " 12 12 12 12 12 12 12 12 12 12 12 12 12 12 12 12 12 12 12 12 12 12 12 12\n",
      " 12 12 12 12 12 12 12 12 12 12 12 12 12 12 12 12 12 12 12 12 12 12 12 12\n",
      " 12 12 12 12 12 12 12 12 12 12 12 12 12 12 12 12 12 12 12 12 12 12 12 12\n",
      " 10 10 10 10 10 10 10 10 10 10 10 10 10 10 10 10 10 10 10 10 10 10 10 10\n",
      " 10 10 10 10 10 10 10 10 10 10 10 10 10 10 10 10 10 10 10 10 10 10 10 10\n",
      " 10 10 10 10 10 10 10 10 10 10 10 10 10 10 10 10 10 10 10 10 10 10 10 10\n",
      " 10 10 10 10 10 10 10 10 10 10 10 10 10 10 10 10 10 10 10 10 10 10 10 10\n",
      " 10 10 10 10 10 10 10 10 10 10 10 10 10 10 10 10 10 10 10 10 10 10 10 10\n",
      " 10 10 10 10 10 10 10 10 10 10 10 10 10 10 10 10 10 10 10 10 10 10 10 10\n",
      " 10 10 10 10 10 10 10 10 10 10 10 10 10 10 10 10 10 10 10 10 10 10 10 10\n",
      " 10 10 10 10 10 10 10 10 10 10 10 10 10 10 10 10 10 10 10 10 10 10 10 10\n",
      " 10 10 10 10 10 10 10  9  9  9  9  9  9  9 10 10 10 10 10 10 10 10 10 10\n",
      " 10 10 10  9  9  9  9  9  9  9  9  9  9  9  9 10 10 10 10 10 10 10 10 10\n",
      " 10 10 10  9  9  9  9  9  9  9  9  9  9  9  9  9 10 10 10 10 10 10 10 10\n",
      " 10 10  9  9  9  9  9  9  9  9  9  9  9  9  9  9 10 10 10 10 10 10 10 10\n",
      "  9  9  9  9  9  9  9  9  9  9  9  9  9  9 10 10 10 10 10 10 10 10  9  9\n",
      "  9  9  9  9  9  9  9  9  9  9  9  9 10 10 10 10 10 10 10 10  9  9  9  9\n",
      "  9  9  9  9  9  9 10 10 10 10 10 10 10  9  9  9  9  9  9  9 10 10 10 10\n",
      " 10 10 10  9  9  9 10 10 10 10 10 10 10 10 10 10 10 10 10 10 10 10 10 10\n",
      " 10 10 10 10 10 10 10 10 10 10 10 10 10 10 10  8  8  8  8  8  8  8  8  8\n",
      "  8  8  8  8  8  8  8  8  8  8  8  9  9  8  8  8  8  9  9  8  8  8  8  9\n",
      "  9  9  8  8  8  9  9  9  9  8  8  9  9  9  9  8  8  9  9  9  9  9  9  8\n",
      "  8  9  9  9  9  9  9  8  8  8  9  9  9  9  9  9  9  8  8  8  8  8  9  9\n",
      "  9  9  9  9  9  9  8  8  8  8  9  9  9  9  9  9  9  9  8  8  8  8  9  9\n",
      "  9  9  9  9  9  9  9  8  8  8  8  9  9  9  9  9  9  9  9  9  9  8  8  8\n",
      "  8  9  9  9  9  9  9  9  9  9  9  8  8  8  9  9  9  9  9  9  9  9  9  9\n",
      "  8  9  9  9  9  9  9  9  9  9  9  9  9  9  9  9  9  9  9  9  9  9  9  9\n",
      "  9  9  9  9  9  9  9  9  9  9  9  9  9  9  9  9  9  9  9  9  9  9  9  9\n",
      "  9  9  9  9  9  9  9  9  9  9  9  9  9  9  9  9  9  9  8  8  8  8  8  8\n",
      "  8  8  8  8  8  8  8  8  8  8  8  8  8  8  8  8  8  8  8  8  8  8  8  8\n",
      "  8  8  8  8  8  8  8  8  8  8  8  8  8  8  8  8  8  8  8  8  8  8  8  8\n",
      "  8  8  8  8  8  8  8  8  8  8  8  8  8  8  8  8  6  6  6  8  8  8  8  6\n",
      "  6  6  6  6  6  6  6  6  8  8  8  8  6  6  6  6  6  6  6  6  6  6  8  8\n",
      "  8  6  6  6  6  6  6  6  6  6  6  6  8  8  8  8  8  6  6  6  6  6  6  6\n",
      "  6  6  6  6  6  8  8  8  8  8  8  8  6  6  6  6  6  6  6  6  6  6  6  6\n",
      "  6  8  8  8  8  8  8  8  6  6  6  6  6  6  6  6  6  6  6  6  6  8  8  8\n",
      "  8  8  8  8  8  6  6  6  6  6  6  6  6  6  6  6  6  6  8  8  8  8  8  8\n",
      "  8  8  6  6  6  6  6  8  8  8  8  8  8  8  6  6  6  6  6  8  8  8  8  8\n",
      "  8  6  6  6  6  8  8  8  8  8  8  8  6  6  6  6  8  8  8  8  8  8  6  6\n",
      "  6  8  8  8  6  6  6  8  8  8  8  8  8  6  6  6  6  6  6  8  8  8  8  8\n",
      "  8  8  8  6  6  6  6  6  6  6  6  6  6  6  6  8  8  8  8  8  8  8  8  8\n",
      "  8  6  6  6  6  6  6  6  6  6  6  6  6  6  6  8  8  8  8  8  8  8  8  8\n",
      "  8  8  6  6  6  6  6  6  6  6  6  6  6  6  6  6  8  8  8  8  8  8  8  8\n",
      "  8  8  8  8  8  6  6  6  6  6  6  6  6  6  6  6  6  6  6  8  8  8  8  8\n",
      "  8  8  8  8  8  8  8  8  6  6  6  6  6  6  6  6  6  6  6  6  6  8  8  8\n",
      "  8  8  8  8  8  8  8  6  6  6  6  6  6  6  6  6  6  8  8  8  8  8  8  8\n",
      "  8  6  6  6  6  6  6  6  6  6  8  8  8  8  8  8  8  8  6  6  6  6  6  6\n",
      "  6  8  8  8  8  8  8  8  6  6  6  6  6  6  8  8  8  8  6  6  6  8  8  8\n",
      "  8  8  8  0  0  0  0  0  0  0  0  0  0  0  0  0  0  0  0  0  0  0  0  0\n",
      "  0  0  0  0  0  0  0  0  0  0  0  0  0  0  0  0  0  0  0  0  0  0  0  0\n",
      "  1  1  0  0  0  0  0  0  1  1  1  1  0  0  0  0  0  0  1  1  1  1  1  1\n",
      "  0  0  0  1  1  1  1  1  1 13 13 13 13 13 13 13 13 13 13 13 13 13 13 13\n",
      " 13  1  1  1  1  1  1  1  1  1  1  1  1  1  1  1  1  1  1  1  1  1  1  1\n",
      "  1  1  1  1  1  1  1  1  1  1  1  1  1  1  1  1  1  1  1  1  1  1  1  1\n",
      "  6  6  1  1  1  1  1  6  6  1  1  1  1  1  1  6  6  6  1  1  1  1  6  6\n",
      "  6  1  1  1  6  6  6  1  1  1  1  6  6  6  6  1  1  1  1  6  6  6  1  1\n",
      "  1  1  6  6  6  1  1  1  6  6  6  6  1  1  1  6  6  6  6  6  6  6  6  6\n",
      "  6  6  6  6  6  6  6  0  0  0  0  0  0  0  0  0  0  0  0  0  0  0  0  0\n",
      "  0  0  0  0  0  0  0  0  0  0  0  0  0  0  0  0  0  4  4  4  4  4  4  4\n",
      "  4  4  4  4  4  4  4  4  4  4  4  4  4  4  4  4  0  0  0  0  0  0  0  0\n",
      "  0  0  0  0  0  0  0  0  0  0  0  0  0  0  0  0  0  0  0  0  0  0  0  0\n",
      "  0  0  0  0  0  0  0  0  0  0  0  0  0  0  0  0  0  0  0  0  4  4  4  4\n",
      "  4  4  4  4  4  4  4  4  4  4  4  4  4  4  4  4  4  4  4  4  4  4  4  4\n",
      "  4  4  4  4  4  4  4  4  4  4  4  4  4  4  4  4  4  4  4  4  4  4  4  4\n",
      "  4  4  4  4  4  0  0  0  0  0  0  0  0  0  0  0  0  0  0  0  0  0  0  0\n",
      "  7  7  7  7  7  0  0  0  0  7  7  7  7  7  7  0  7  7  7  7  7  7  4  4\n",
      "  7  7  7  7  7  7  4  4  7  7  7  7  7  4  4  4  7  7  7  7  7  7  4  4\n",
      "  7  7  7  7  7  7  7  7  4  4  7  7  7  7  7  7  7  7  7  4  4  4  7  7\n",
      "  7  7  7  7  4  4  4  4  4  4  4  4  4  4  4  4  4  4  4  4  0  4  4  0\n",
      "  0  4  4  0  0  0  4  0  0  0  0  4  0  0  0  0  0  4  0  0  0  0  0  0\n",
      "  0  0  0  0  0  0  0  0  0  0  0  0  0  0  0  0  0  0  0  5  5  5  5  5\n",
      "  5  5  5  5  5  5  5  5  5  5  5  5  5  5  5  5  5  5  5  5  5  5  5  5\n",
      "  5  5  5  5  5  5  5  5  5  5  5  5  5  5  5  5  5  5  5  5  5  5  5  5\n",
      "  5  5  5  5  5  5  5  5  5  5  5  5  5  5  5  5  5  5  5  5  5  5  5  5\n",
      "  5  5  5  5  5  5  5  5  5  4  4  4  4  4  4  4  4  4  4  4  4  4  4  4\n",
      "  4  4  4  4  4  4  4  4  4  4  4  4  4  4  4  4  4  4  4  4  4  4  4  4\n",
      "  4  4  4  4  4  4  4  4  4  4  4  4  4  4  4  4  4  4  4  4  4  4  4  4\n",
      "  4  4  4  4  4  4  4  4  4  4  4  4  4  4  4  4  4  4  4  4  4  4  4  4\n",
      "  4  0  0  0  0  0  0  0  0  0  0  0  0  0  0  0  0  0  0  0  0  0  0  0\n",
      "  0  0  0  0  0  0  0  0  0  0  0  0  0  0  0  0  0  0  0  0  0  0  0  2\n",
      "  2  2  2  2  2  2  2  2  2  2  2  2  2  2  2  2  2  2  2  2  2  2  2  2\n",
      "  2  2  2  2  2  2  2  2  2  2  2  2  2  2  2  2  2  2  2  2  2  2  2  2\n",
      "  2  2  2  2  2  2  2  2  2  2  2  2  2  2  4  4  3  3  3  3  3  3  3  3\n",
      "  3  3  4  4  3  3  3  3  3  3  3  3  3  3  3  4  4  4  2  2  3  3  3  3\n",
      "  3  3  3  3  3  3  4  4  2  2  2  2  3  3  3  3  3  3  3  3  4  4  4  2\n",
      "  2  2  2  2  3  3  3  3  3  3  3  4  4  4  4  4  2  2  2  3  3  3  3  3\n",
      "  3  4  4  4  4  4  4  3  3  3  3  3  3  4  4  4  4  4  4  4  3  3  3  3\n",
      "  3  4  4  4  4  3  3  4  4  4  4  4  4  4  4  4  4  4  4  4  4  4  4  4\n",
      "  4  4  4  4  4  4  4  4  4  4  4  4  4  7  7  7  7  7  7  7  7  7  7  7\n",
      "  7  7  7  7  7  7  7  7  7  7  7  7  7  7  7  7  7  7  7  7  7  7  7  7\n",
      "  7  7  7  7  7  7  7  7  7  7  7  7  7  7  7  7  7  7  7  7  7  7  7  7\n",
      "  7  7  7  7  7  7  7  7  7  7  7  7  7  7  7  7  7  5  5  7  7  5  5  5\n",
      "  5  5  5  5  5  5  5  5  5  5  5  5  5  5  5  5  5  5  5  5  5  5  5  5\n",
      "  5  5  5  5  5  5  5  5  5  5  5  5  5  5  5  5  5  5  5  5  5  5  5  5\n",
      "  5  5  5  5  5  5  3  3  3  7  7  7  3  3  3  7  7  7  7  7  7  7  7  7\n",
      "  7  7  3  3  3  3  5  5  7  7  7  7  7  7  7  7  7  7  7  7  7  3  3  3\n",
      "  3  5  5  7  7  7  7  7  7  7  7  7  7  7  7  3  3  3  3  5  5  7  7  7\n",
      "  7  7  7  7  7  7  7  7  3  3  3  3  5  5  5  7  7  7  7  7  7  7  7  7\n",
      "  7  3  3  3  3  3  5  5  5  5  5  5  7  7  7  7  7  7  7  7  3  3  3  3\n",
      "  3  5  5  5  5  5  5  5  5  5  3  3  3  3  3  3  5  5  5  5  5  5  5  3\n",
      "  3  3  3  3  3  3  5  5  5  3  3  3  3  3  3  3  5  5  3  3  3  3  3  3\n",
      "  3  3  3  3  3  3  3  3  3  3  3  3  3  3  3  3  3  3  3  3  3  3  3  3\n",
      "  3  3  3  3  3  3  3  3  3  3  3  3  3  3  3  3  3  3  3  3  3  3  3  3\n",
      "  3  3  3  3  3  3  3  3  3  3  3  3  3  3  3  3  3  3  3  3  3  3  3  3\n",
      "  3  3  3  3  3  3  3  3  3  3  3  3  3  3  3  3  3  3  3  3  2  2  2  2\n",
      "  2  2  2  2  2  2  2  2  2  2  2  2  2  2  2  2  2  2  2  2  2  2  2  2\n",
      "  2  2  2  2  2  2  2  2  2  2  2  2  2  2  2  2  2  2  2  2  2  2  2  2\n",
      "  2  2  2  2  2  0  0  0  2  2  0  0  0  0  0  0  0  2  2  2  0  0  0  0\n",
      "  2  2  2  2  2  2  2  2  2  2  2  2  2  2  2  2  2  2  2  2  2  2  2  2\n",
      "  2  2  2  2  2  2  2  2  2  2  2  2  2  2  2  2  2  2  2  2  2  2  2  2\n",
      "  2  2  2  2  2  2  2  2  2  2  2  2  2  2  2  2  2  2  2  2  2  2  2  2\n",
      "  2  2  2  2  2  2  2  2  2  2  2  2  2  2  2  2  2  2  2  2  2  2  2  2\n",
      "  2  2  5  5  2  2  2  2  2  5  5  5  2  2  2  2  5  5  5  5  2  2  2  5\n",
      "  5  5  5  5  2  2  5  5  5  5  5  5  5  5  5  5  5  5  5  5  5  5  5  5\n",
      "  5  5  5  5  5  5  5  5  5  5  5  5  5  5  5  5  5  5  5  5  5  5  5  5\n",
      "  5  5  5  5  5  5  5  5  5  5  5  5  5  5  5  5  5  5  5  5  5  5  5  5\n",
      "  5  5  5  5  5  5  5  5]\n"
     ]
    }
   ],
   "source": [
    "data = np.array(data)\n",
    "print(data.shape)\n",
    "''' (3248, 1, 78400) '''\n",
    "\n",
    "data = np.squeeze(data)\n",
    "print(\"squeeze : \", data.shape)\n",
    "''' squeeze :  (3248, 78400) '''\n",
    "\n",
    "\n",
    "label = np.array(label)\n",
    "print(label.shape)\n",
    "''' (3248,) '''\n",
    "\n",
    "label = np.squeeze(label)\n",
    "print(\"squeeze : \", label.shape)\n",
    "''' squeeze :  (3248,) '''\n",
    "\n",
    "\n",
    "np.set_printoptions(threshold=np.inf)\n",
    "\n",
    "print(label)"
   ]
  },
  {
   "cell_type": "code",
   "execution_count": 22,
   "id": "62f55d92",
   "metadata": {},
   "outputs": [
    {
     "name": "stdout",
     "output_type": "stream",
     "text": [
      "<class 'numpy.ndarray'>\n",
      "{0: 0, 1: 0, 2: 0, 3: 0, 4: 0, 5: 0, 6: 0, 7: 0, 8: 0, 9: 0, 10: 0, 11: 0, 12: 0, 13: 0}\n",
      "{0: 270, 1: 101, 2: 251, 3: 215, 4: 269, 5: 269, 6: 259, 7: 203, 8: 314, 9: 248, 10: 305, 11: 181, 12: 268, 13: 95}\n",
      "3248\n"
     ]
    }
   ],
   "source": [
    "print(type(label))\n",
    "bot_dict = {}\n",
    "bot_dict = bot_dict.fromkeys([i for i in range(label_num)], 0)\n",
    "print(bot_dict)\n",
    "\n",
    "for i in label:\n",
    "    if i in bot_dict:\n",
    "        bot_dict[i] += 1\n",
    "print(bot_dict)\n",
    "bot_label_sum = sum(bot_dict.values())\n",
    "print(bot_label_sum)\n",
    "\n",
    "# <class 'numpy.ndarray'>\n",
    "# {0: 0, 1: 0, 2: 0, 3: 0, 4: 0, 5: 0, 6: 0, 7: 0, 8: 0, 9: 0, 10: 0, 11: 0, 12: 0, 13: 0}\n",
    "# {0: 270, 1: 101, 2: 251, 3: 215, 4: 269, 5: 269, 6: 259, 7: 203, 8: 314, 9: 248, 10: 305, 11: 181, 12: 268, 13: 95}\n",
    "# 3248"
   ]
  },
  {
   "cell_type": "code",
   "execution_count": 13,
   "id": "3a3317e6",
   "metadata": {},
   "outputs": [],
   "source": [
    "# np.set_printoptions(threshold=np.inf)\n",
    "# print(type(label))\n",
    "# print(label)"
   ]
  },
  {
   "cell_type": "code",
   "execution_count": 14,
   "id": "892be97f",
   "metadata": {},
   "outputs": [],
   "source": [
    "indices = np.arange(data.shape[0]) \n",
    "# (3248,)\n",
    "shuffled_indices = np.random.permutation(indices)\n",
    "# (3248,)\n",
    "images = data[shuffled_indices]\n",
    "# (3248, 78400)\n",
    "labels = label[shuffled_indices]\n",
    "# (3248,)"
   ]
  },
  {
   "cell_type": "code",
   "execution_count": 15,
   "id": "d865c501",
   "metadata": {},
   "outputs": [],
   "source": [
    "t_labeled = []\n",
    "\n",
    "dict_sample = \\\n",
    "{'0': 374608, '14': 95, '12': 181, '13': 268, '11': 305, '10': 248, '9': 314, \n",
    " '7': 259, '1': 270, '2': 101, '5': 269, '8': 203, '6': 269, '3': 251, '4': 215}\n",
    "\n",
    "for c in range(label_num): \n",
    "    if dict_sample[str(c+1)]<200:   # ''' 标记样本数小于200的不要'''\n",
    "       pass\n",
    "    else:\n",
    "        i = indices[labels == c][:200]\n",
    "        t_labeled += list(i)"
   ]
  },
  {
   "cell_type": "code",
   "execution_count": 16,
   "id": "6c8f3b1b",
   "metadata": {},
   "outputs": [
    {
     "name": "stdout",
     "output_type": "stream",
     "text": [
      "t_images (2200, 78400)\n",
      "t_labels (2200,)\n"
     ]
    },
    {
     "data": {
      "text/plain": [
       "'\\nt_images (2200, 78400)\\nt_labels (2200,)\\n'"
      ]
     },
     "execution_count": 16,
     "metadata": {},
     "output_type": "execute_result"
    }
   ],
   "source": [
    "t_images = images[t_labeled]\n",
    "print('t_images', t_images.shape)\n",
    "t_labels = labels[t_labeled]\n",
    "print('t_labels', t_labels.shape)\n",
    "\n",
    "'''\n",
    "t_images (2200, 78400)\n",
    "t_labels (2200,)\n",
    "'''"
   ]
  },
  {
   "cell_type": "code",
   "execution_count": 17,
   "id": "097ac600",
   "metadata": {},
   "outputs": [
    {
     "name": "stdout",
     "output_type": "stream",
     "text": [
      "success\n"
     ]
    }
   ],
   "source": [
    "f = h5py.File(r'../../h5dataset_ica_bandselect/BO-' + str(PATCH_SIZE * 2) + '-' + str(PATCH_SIZE * 2) + '-100.h5', 'w')  # 每类200个\n",
    "f['data'] = images\n",
    "f['label'] = labels\n",
    "f.close()\n",
    "\n",
    "f = h5py.File(r'../../h5dataset_ica_bandselect_200/BO-' + str(PATCH_SIZE * 2) + '-' + str(PATCH_SIZE * 2) + '-100.h5', 'w')  # 每类200个\n",
    "f['data'] = t_images\n",
    "f['label'] = t_labels\n",
    "f.close()\n",
    "\n",
    "print(\"success\")"
   ]
  },
  {
   "cell_type": "code",
   "execution_count": 18,
   "id": "b39c508d",
   "metadata": {},
   "outputs": [
    {
     "name": "stdout",
     "output_type": "stream",
     "text": [
      "['data', 'label']\n",
      "(3248, 78400)\n",
      "(3248,)\n"
     ]
    }
   ],
   "source": [
    "#HDF5的读取\n",
    "f = h5py.File('../../h5dataset_ica_bandselect/BO-28-28-100.h5','r')   #打开h5文件  # 可以查看所有的主键  \n",
    "# print(type(f))\n",
    "\n",
    "print([key for key in f.keys()])\n",
    "\n",
    "# print('first, we get values of x:', f['data'][:])\n",
    "# print('then, we get values of y:', f['label'][:])\n",
    "print(f['data'][:].shape)\n",
    "print(f['label'][:].shape)"
   ]
  },
  {
   "cell_type": "code",
   "execution_count": 19,
   "id": "faa8452e",
   "metadata": {},
   "outputs": [
    {
     "name": "stdout",
     "output_type": "stream",
     "text": [
      "['data', 'label']\n",
      "(2200, 78400)\n",
      "(2200,)\n"
     ]
    }
   ],
   "source": [
    "#HDF5的读取\n",
    "f = h5py.File('../../h5dataset_ica_bandselect_200/BO-28-28-100.h5','r')   #打开h5文件  # 可以查看所有的主键  \n",
    "# print(type(f))\n",
    "\n",
    "print([key for key in f.keys()])\n",
    "\n",
    "# print('first, we get values of x:', f['data'][:])\n",
    "# print('then, we get values of y:', f['label'][:])\n",
    "print(f['data'][:].shape)\n",
    "print(f['label'][:].shape)"
   ]
  },
  {
   "cell_type": "code",
   "execution_count": 20,
   "id": "14ab9173",
   "metadata": {},
   "outputs": [
    {
     "name": "stdout",
     "output_type": "stream",
     "text": [
      "['data', 'label']\n",
      "(2200, 78400)\n",
      "(2200,)\n"
     ]
    }
   ],
   "source": [
    "#HDF5的读取\n",
    "f = h5py.File('../../h5dataset/BO-28-28-100.h5','r')   #打开h5文件  # 可以查看所有的主键  \n",
    "# print(type(f))\n",
    "\n",
    "print([key for key in f.keys()])\n",
    "\n",
    "# print('first, we get values of x:', f['data'][:])\n",
    "# print('then, we get values of y:', f['label'][:])\n",
    "print(f['data'][:].shape)\n",
    "print(f['label'][:].shape)"
   ]
  },
  {
   "cell_type": "code",
   "execution_count": null,
   "id": "cd345ec1",
   "metadata": {},
   "outputs": [],
   "source": []
  }
 ],
 "metadata": {
  "kernelspec": {
   "display_name": "DLPTH112",
   "language": "python",
   "name": "pth112"
  },
  "language_info": {
   "codemirror_mode": {
    "name": "ipython",
    "version": 3
   },
   "file_extension": ".py",
   "mimetype": "text/x-python",
   "name": "python",
   "nbconvert_exporter": "python",
   "pygments_lexer": "ipython3",
   "version": "3.9.16"
  }
 },
 "nbformat": 4,
 "nbformat_minor": 5
}
