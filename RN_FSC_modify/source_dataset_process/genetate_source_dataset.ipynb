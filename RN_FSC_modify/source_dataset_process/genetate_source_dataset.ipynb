{
 "cells": [
  {
   "cell_type": "code",
   "execution_count": 1,
   "id": "693725a5",
   "metadata": {},
   "outputs": [],
   "source": [
    "import h5py\n",
    "import numpy as np"
   ]
  },
  {
   "cell_type": "code",
   "execution_count": 2,
   "id": "4f44fb71",
   "metadata": {},
   "outputs": [
    {
     "name": "stdout",
     "output_type": "stream",
     "text": [
      "(2200, 78400)\n"
     ]
    }
   ],
   "source": [
    "f=h5py.File('../../h5dataset_ica_bandselect_200/BO-28-28-100.h5','r')\n",
    "data1=f['data'][:]\n",
    "f.close()\n",
    "print(data1.shape) \n",
    "# (2200, 78400) \n",
    "# 14 - 3 = 11类"
   ]
  },
  {
   "cell_type": "code",
   "execution_count": 3,
   "id": "e9bbbe0c",
   "metadata": {},
   "outputs": [
    {
     "name": "stdout",
     "output_type": "stream",
     "text": [
      "(3000, 78400)\n"
     ]
    }
   ],
   "source": [
    "f=h5py.File('../../h5dataset_ica_bandselect_200/HS-28-28-100.h5','r')\n",
    "data2=f['data'][:]\n",
    "f.close()\n",
    "print(data2.shape) \n",
    "# (3000, 78400) \n",
    "# 16 - 1 = 15类"
   ]
  },
  {
   "cell_type": "code",
   "execution_count": 4,
   "id": "57c94a0f",
   "metadata": {},
   "outputs": [
    {
     "name": "stdout",
     "output_type": "stream",
     "text": [
      "(2200, 78400)\n"
     ]
    }
   ],
   "source": [
    "f=h5py.File('../../h5dataset_ica_bandselect_200/KSC-28-28-100.h5','r')\n",
    "data3=f['data'][:]\n",
    "f.close()\n",
    "print(data3.shape) \n",
    "# (2200, 78400) \n",
    "# 13 - 2 = 11类"
   ]
  },
  {
   "cell_type": "code",
   "execution_count": 5,
   "id": "764a0ab6",
   "metadata": {},
   "outputs": [
    {
     "name": "stdout",
     "output_type": "stream",
     "text": [
      "(3600, 78400)\n"
     ]
    }
   ],
   "source": [
    "f=h5py.File('../../h5dataset_ica_bandselect_200/CH-28-28-100.h5','r')\n",
    "data4=f['data'][:]\n",
    "f.close()\n",
    "print(data4.shape)\n",
    "# (3600, 78400)\n",
    "# 19 - 1 = 18类"
   ]
  },
  {
   "cell_type": "code",
   "execution_count": 6,
   "id": "a5b8afff",
   "metadata": {},
   "outputs": [
    {
     "name": "stdout",
     "output_type": "stream",
     "text": [
      "(11000, 78400)\n"
     ]
    }
   ],
   "source": [
    "data=np.vstack((data1,data2,data3,data4))\n",
    "print(data.shape)\n",
    "# (11000, 78400)"
   ]
  },
  {
   "cell_type": "code",
   "execution_count": 7,
   "id": "a358ea4d",
   "metadata": {},
   "outputs": [],
   "source": [
    "f=h5py.File('../../h5dataset_ica_bandselect_200/meta_train_' + str(data.shape[0]) + '_' + str(data.shape[1]) + '.h5','w')\n",
    "f['data']=data\n",
    "f.close()\n",
    "print(\"success\")"
   ]
  },
  {
   "cell_type": "code",
   "execution_count": null,
   "id": "ced29123",
   "metadata": {},
   "outputs": [],
   "source": []
  }
 ],
 "metadata": {
  "kernelspec": {
   "display_name": "DLPTH112",
   "language": "python",
   "name": "pth112"
  },
  "language_info": {
   "codemirror_mode": {
    "name": "ipython",
    "version": 3
   },
   "file_extension": ".py",
   "mimetype": "text/x-python",
   "name": "python",
   "nbconvert_exporter": "python",
   "pygments_lexer": "ipython3",
   "version": "3.9.16"
  }
 },
 "nbformat": 4,
 "nbformat_minor": 5
}
