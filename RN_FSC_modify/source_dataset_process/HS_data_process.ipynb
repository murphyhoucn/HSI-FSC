{
 "cells": [
  {
   "cell_type": "code",
   "execution_count": 1,
   "id": "bf7a95fb",
   "metadata": {},
   "outputs": [],
   "source": [
    "import numpy as np\n",
    "import h5py\n",
    "from scipy.io import loadmat"
   ]
  },
  {
   "cell_type": "code",
   "execution_count": 2,
   "id": "a1b4208a",
   "metadata": {},
   "outputs": [],
   "source": [
    "def Patch(data,height_index,width_index,PATCH_SIZE):   # PATCH_SIZE为一个patch（边长-1）的一半    data维度(H,W,C)\n",
    "    height_slice = slice(height_index-PATCH_SIZE, height_index+PATCH_SIZE)\n",
    "    width_slice = slice(width_index-PATCH_SIZE, width_index+PATCH_SIZE)\n",
    "    # 由height_index和width_index定位patch中心像素\n",
    "    patch = data[height_slice, width_slice,:]\n",
    "    patch = patch.reshape(-1,patch.shape[0]*patch.shape[1]*patch.shape[2])\n",
    "    # print(patch.shape)                  #为一行  (1, 243) 243 = 9*9*3\n",
    "    return patch"
   ]
  },
  {
   "cell_type": "code",
   "execution_count": 3,
   "id": "e57520a9",
   "metadata": {},
   "outputs": [
    {
     "name": "stdout",
     "output_type": "stream",
     "text": [
      "(349, 1905, 144)\n",
      "(349, 1905)\n"
     ]
    },
    {
     "data": {
      "text/plain": [
       "'\\n(349, 1905, 144)\\n(349, 1905)\\n'"
      ]
     },
     "execution_count": 3,
     "metadata": {},
     "output_type": "execute_result"
    }
   ],
   "source": [
    "img = loadmat('../../dataset/1_Houston/Houston.mat')['Houston']\n",
    "print(img.shape)\n",
    "gt = loadmat('../../dataset/1_Houston/Houston_gt.mat')['Houston_gt']\n",
    "print(gt.shape) \n",
    "'''\n",
    "(349, 1905, 144)\n",
    "(349, 1905)\n",
    "'''"
   ]
  },
  {
   "cell_type": "code",
   "execution_count": 4,
   "id": "edaed502",
   "metadata": {},
   "outputs": [
    {
     "name": "stdout",
     "output_type": "stream",
     "text": [
      "{0: 649816, 9: 1252, 1: 1251, 11: 1235, 2: 1254, 7: 1268, 4: 1244, 10: 1227, 8: 1244, 12: 1233, 5: 1242, 6: 325, 13: 469, 14: 428, 15: 660, 3: 697}\n"
     ]
    },
    {
     "data": {
      "text/plain": [
       "'\\n{0: 649816, 9: 1252, 1: 1251, 11: 1235, 2: 1254, 7: 1268, 4: 1244, 10: 1227, 8: 1244, 12: 1233, 5: 1242, 6: 325, 13: 469, 14: 428, 15: 660, 3: 697}\\n'"
      ]
     },
     "execution_count": 4,
     "metadata": {},
     "output_type": "execute_result"
    }
   ],
   "source": [
    "dict_k = {}\n",
    "for i in range(gt.shape[0]):\n",
    "    for j in range(gt.shape[1]):\n",
    "        if gt[i][j] in range(0, 16):\n",
    "            if gt[i][j] not in dict_k:\n",
    "                dict_k[gt[i][j]] = 0\n",
    "            dict_k[gt[i][j]] += 1\n",
    "\n",
    "print(dict_k)  \n",
    "\n",
    "'''\n",
    "{0: 649816, 9: 1252, 1: 1251, 11: 1235, 2: 1254, 7: 1268, 4: 1244, 10: 1227, 8: 1244, 12: 1233, 5: 1242, 6: 325, 13: 469, 14: 428, 15: 660, 3: 697}\n",
    "'''"
   ]
  },
  {
   "cell_type": "code",
   "execution_count": 5,
   "id": "9de48d9a",
   "metadata": {},
   "outputs": [
    {
     "name": "stdout",
     "output_type": "stream",
     "text": [
      "(349, 1905, 100)\n"
     ]
    },
    {
     "data": {
      "text/plain": [
       "numpy.ndarray"
      ]
     },
     "execution_count": 5,
     "metadata": {},
     "output_type": "execute_result"
    }
   ],
   "source": [
    "'''\n",
    "波段处理\n",
    "'''\n",
    "bands_select = [16, 17, 18, 19, 20, 21, 22, 23, 24, 25, 26, 27, 28, 29, 30, 31, 32, 33, 34, 35, 36, 37, 38, 39, 40, 41, 42, 43, 44, 45, 46, 47, 48, 49, 50, 51, 52, 53, 54, 55, 56, 57, 58, 59, 60, 61, 62, 63, 64, 65, 66, 67, 68, 69, 70, 71, 72, 73, 74, 75, 76, 77, 78, 79, 80, 81, 82, 83, 84, 86, 87, 88, 89, 90, 91, 92, 93, 94, 95, 98, 99, 100, 101, 102, 103, 104, 105, 106, 107, 108, 109, 110, 111, 112, 138, 139, 140, 141, 143, 144]\n",
    "for i in range(len(bands_select)):\n",
    "    bands_select[i] = bands_select[i] - 1 \n",
    "# print(bands_select)\n",
    "\n",
    "'''\n",
    "波段选择\n",
    "'''\n",
    "img = img[:, :, bands_select]\n",
    "print(img.shape)\n",
    "\n",
    "'''\n",
    "图像归一化\n",
    "'''\n",
    "img = ( img * 1.0 - img.min() ) / ( img.max() - img.min() )\n",
    "type(img)"
   ]
  },
  {
   "cell_type": "code",
   "execution_count": 6,
   "id": "74e00b43",
   "metadata": {},
   "outputs": [
    {
     "name": "stdout",
     "output_type": "stream",
     "text": [
      "15\n"
     ]
    }
   ],
   "source": [
    "[m, n, b] = img.shape\n",
    "label_num = gt.max()  #最大为9，即除0外包括9类\n",
    "print(label_num)\n",
    "PATCH_SIZE = 14"
   ]
  },
  {
   "cell_type": "code",
   "execution_count": 7,
   "id": "cbf2185d",
   "metadata": {},
   "outputs": [],
   "source": [
    "# padding the hyperspectral images\n",
    "img_temp = np.zeros((m + 2 * PATCH_SIZE, n + 2 * PATCH_SIZE, b), dtype=np.float32)\n",
    "img_temp[PATCH_SIZE:(m + PATCH_SIZE), PATCH_SIZE:(n + PATCH_SIZE), :] = img[:, :, :]\n",
    "\n",
    "for i in range(PATCH_SIZE):\n",
    "    img_temp[i, :, :] = img_temp[2 * PATCH_SIZE - i, :, :]\n",
    "    img_temp[m + PATCH_SIZE + i, :, :] = img_temp[m + PATCH_SIZE - i - 2, :, :]\n",
    "\n",
    "for i in range(PATCH_SIZE):\n",
    "    img_temp[:, i, :] = img_temp[:, 2 * PATCH_SIZE - i, :]\n",
    "    img_temp[:, n + PATCH_SIZE + i, :] = img_temp[:, n + PATCH_SIZE  - i - 2, :]\n",
    "\n",
    "img = img_temp\n",
    "\n",
    "gt_temp = np.zeros((m + 2 * PATCH_SIZE, n + 2 * PATCH_SIZE), dtype=np.int8)\n",
    "gt_temp[PATCH_SIZE:(m + PATCH_SIZE), PATCH_SIZE:(n + PATCH_SIZE)] = gt[:, :]\n",
    "gt = gt_temp\n"
   ]
  },
  {
   "cell_type": "code",
   "execution_count": 8,
   "id": "40ff2842",
   "metadata": {},
   "outputs": [
    {
     "name": "stdout",
     "output_type": "stream",
     "text": [
      "(377, 1933, 100) (377, 1933)\n"
     ]
    }
   ],
   "source": [
    "print(img.shape, gt.shape)"
   ]
  },
  {
   "cell_type": "code",
   "execution_count": 9,
   "id": "fa19fd02",
   "metadata": {},
   "outputs": [],
   "source": [
    "[m, n, b] = img.shape"
   ]
  },
  {
   "cell_type": "code",
   "execution_count": 10,
   "id": "dd023cea",
   "metadata": {},
   "outputs": [],
   "source": [
    "data = []\n",
    "label = []\n",
    "count = 0 #统计有多少个中心像素类别不为0的patch"
   ]
  },
  {
   "cell_type": "code",
   "execution_count": 11,
   "id": "51771f88",
   "metadata": {},
   "outputs": [
    {
     "name": "stdout",
     "output_type": "stream",
     "text": [
      "15029\n"
     ]
    }
   ],
   "source": [
    "for i in range(PATCH_SIZE, m - PATCH_SIZE): # PATCH_SIZE, 50, 100, 150, 200, 250, 300, 330, m - PATCH_SIZE\n",
    "    for j in range(PATCH_SIZE, n - PATCH_SIZE):\n",
    "        if gt[i, j] == 0:\n",
    "            continue\n",
    "        else:\n",
    "            count += 1\n",
    "            temp_data = Patch(img, i, j, PATCH_SIZE)\n",
    "            temp_label = gt[i, j] - 1\n",
    "\n",
    "            data.append(temp_data)  # 每一行表示一个patch\n",
    "            label.append(temp_label)\n",
    "print(count)  #15029"
   ]
  },
  {
   "cell_type": "code",
   "execution_count": 12,
   "id": "f00580a5",
   "metadata": {},
   "outputs": [
    {
     "name": "stdout",
     "output_type": "stream",
     "text": [
      "(15029, 1, 78400)\n",
      "squeeze :  (15029, 78400)\n",
      "(15029,)\n",
      "squeeze :  (15029,)\n"
     ]
    }
   ],
   "source": [
    "data = np.array(data)\n",
    "print(data.shape)  # (15029, 1, 78400)\n",
    "\n",
    "data = np.squeeze(data)\n",
    "print(\"squeeze : \", data.shape)  # squeeze :  (15029, 78400)\n",
    "\n",
    "label = np.array(label)\n",
    "print(label.shape)  #(15029,)\n",
    "\n",
    "label = np.squeeze(label)\n",
    "print(\"squeeze : \", label.shape)  # squeeze :  (15029,)"
   ]
  },
  {
   "cell_type": "code",
   "execution_count": 13,
   "id": "828c7dbb",
   "metadata": {},
   "outputs": [
    {
     "name": "stdout",
     "output_type": "stream",
     "text": [
      "<class 'numpy.ndarray'>\n",
      "{0: 0, 1: 0, 2: 0, 3: 0, 4: 0, 5: 0, 6: 0, 7: 0, 8: 0, 9: 0, 10: 0, 11: 0, 12: 0, 13: 0, 14: 0}\n",
      "{0: 1251, 1: 1254, 2: 697, 3: 1244, 4: 1242, 5: 325, 6: 1268, 7: 1244, 8: 1252, 9: 1227, 10: 1235, 11: 1233, 12: 469, 13: 428, 14: 660}\n",
      "15029\n"
     ]
    }
   ],
   "source": [
    "print(type(label))\n",
    "hs_dict = {}\n",
    "hs_dict = hs_dict.fromkeys([i for i in range(label_num)], 0)\n",
    "print(hs_dict)\n",
    "\n",
    "for i in label:\n",
    "    if i in hs_dict:\n",
    "        hs_dict[i] += 1\n",
    "print(hs_dict)\n",
    "hs_label_sum = sum(hs_dict.values())\n",
    "print(hs_label_sum)"
   ]
  },
  {
   "cell_type": "code",
   "execution_count": 13,
   "id": "ac417891",
   "metadata": {},
   "outputs": [],
   "source": [
    "indices = np.arange(data.shape[0])  # list [0,.....,42775]\n",
    "shuffled_indices = np.random.permutation(indices)\n",
    "images = data[shuffled_indices]\n",
    "labels = label[shuffled_indices]  # 打乱顺序"
   ]
  },
  {
   "cell_type": "code",
   "execution_count": 14,
   "id": "3993ac64",
   "metadata": {},
   "outputs": [],
   "source": [
    "y = labels  # 布尔索引\n",
    "# y 为一个list (42776,)  [0 1 6 ... 0 7 1]\n",
    "\n",
    "n_classes = y.max() + 1  # y.max() = 8  n_classes代表类别数为9\n",
    "t_labeled = []"
   ]
  },
  {
   "cell_type": "code",
   "execution_count": 15,
   "id": "2076b9da",
   "metadata": {},
   "outputs": [],
   "source": [
    "for c in range(n_classes):  # 对于每一类     每类的pixel数量：6631 18649 2099 3064 1345 5029 1330 3682 947\n",
    "    #if dict_sample[str(c+1)]<200:\n",
    "    #    pass\n",
    "    #else:\n",
    "    i = indices[y == c][:200]\n",
    "    t_labeled += list(i)  # 列表中元素增加"
   ]
  },
  {
   "cell_type": "code",
   "execution_count": 16,
   "id": "226841a3",
   "metadata": {},
   "outputs": [
    {
     "name": "stdout",
     "output_type": "stream",
     "text": [
      "t_images (3000, 78400)\n",
      "t_labels (3000,)\n"
     ]
    }
   ],
   "source": [
    "t_images = images[t_labeled]\n",
    "print('t_images', t_images.shape)\n",
    "t_labels = labels[t_labeled]\n",
    "print('t_labels', t_labels.shape)"
   ]
  },
  {
   "cell_type": "code",
   "execution_count": 17,
   "id": "47c0d396",
   "metadata": {},
   "outputs": [
    {
     "name": "stdout",
     "output_type": "stream",
     "text": [
      "success\n"
     ]
    }
   ],
   "source": [
    "f = h5py.File(r'../../h5dataset_ica_bandselect_200/HS-' + str(PATCH_SIZE * 2) + '-' + str(PATCH_SIZE * 2) + '-100.h5', 'w')  # 每类200个\n",
    "f['data'] = t_images\n",
    "f['label'] = t_labels\n",
    "f.close()\n",
    "print('success')"
   ]
  },
  {
   "cell_type": "code",
   "execution_count": 18,
   "id": "d5e5e1d2",
   "metadata": {},
   "outputs": [
    {
     "name": "stdout",
     "output_type": "stream",
     "text": [
      "success\n"
     ]
    }
   ],
   "source": [
    "f = h5py.File(r'../../h5dataset_ica_bandselect/HS-' + str(PATCH_SIZE * 2) + '-' + str(PATCH_SIZE * 2) + '-100.h5', 'w')  # 每类200个\n",
    "f['data'] = images\n",
    "f['label'] = labels\n",
    "f.close()\n",
    "print('success')"
   ]
  },
  {
   "cell_type": "code",
   "execution_count": 19,
   "id": "74b927f0",
   "metadata": {},
   "outputs": [
    {
     "name": "stdout",
     "output_type": "stream",
     "text": [
      "['data', 'label']\n",
      "(15029, 78400)\n",
      "(15029,)\n"
     ]
    }
   ],
   "source": [
    "#HDF5的读取\n",
    "f = h5py.File('../../h5dataset_ica_bandselect/HS-28-28-100.h5','r')   #打开h5文件  # 可以查看所有的主键  \n",
    "# print(type(f))\n",
    "\n",
    "print([key for key in f.keys()])\n",
    "\n",
    "# print('first, we get values of x:', f['data'][:])\n",
    "# print('then, we get values of y:', f['label'][:])\n",
    "print(f['data'][:].shape)\n",
    "print(f['label'][:].shape)"
   ]
  },
  {
   "cell_type": "code",
   "execution_count": 20,
   "id": "69f3e50d",
   "metadata": {},
   "outputs": [
    {
     "name": "stdout",
     "output_type": "stream",
     "text": [
      "['data', 'label']\n",
      "(3000, 78400)\n",
      "(3000,)\n"
     ]
    }
   ],
   "source": [
    "#HDF5的读取\n",
    "f = h5py.File('../../h5dataset_ica_bandselect_200/HS-28-28-100.h5','r')   #打开h5文件  # 可以查看所有的主键  \n",
    "# print(type(f))\n",
    "\n",
    "print([key for key in f.keys()])\n",
    "\n",
    "# print('first, we get values of x:', f['data'][:])\n",
    "# print('then, we get values of y:', f['label'][:])\n",
    "print(f['data'][:].shape)\n",
    "print(f['label'][:].shape)"
   ]
  },
  {
   "cell_type": "code",
   "execution_count": 21,
   "id": "0eef16c2",
   "metadata": {},
   "outputs": [
    {
     "name": "stdout",
     "output_type": "stream",
     "text": [
      "['data', 'label']\n",
      "(3000, 78400)\n",
      "(3000,)\n"
     ]
    }
   ],
   "source": [
    "#HDF5的读取\n",
    "f = h5py.File('../../h5dataset/HS-28-28-100.h5','r')   #打开h5文件  # 可以查看所有的主键  \n",
    "# print(type(f))\n",
    "\n",
    "print([key for key in f.keys()])\n",
    "\n",
    "# print('first, we get values of x:', f['data'][:])\n",
    "# print('then, we get values of y:', f['label'][:])\n",
    "print(f['data'][:].shape)\n",
    "print(f['label'][:].shape)"
   ]
  }
 ],
 "metadata": {
  "kernelspec": {
   "display_name": "DLPTH112",
   "language": "python",
   "name": "pth112"
  },
  "language_info": {
   "codemirror_mode": {
    "name": "ipython",
    "version": 3
   },
   "file_extension": ".py",
   "mimetype": "text/x-python",
   "name": "python",
   "nbconvert_exporter": "python",
   "pygments_lexer": "ipython3",
   "version": "3.9.16"
  }
 },
 "nbformat": 4,
 "nbformat_minor": 5
}
