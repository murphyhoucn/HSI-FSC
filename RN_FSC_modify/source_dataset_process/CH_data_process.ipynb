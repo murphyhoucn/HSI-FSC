{
 "cells": [
  {
   "cell_type": "code",
   "execution_count": 1,
   "id": "8225299e",
   "metadata": {},
   "outputs": [],
   "source": [
    "import numpy as np\n",
    "import h5py\n",
    "from scipy.io import loadmat"
   ]
  },
  {
   "cell_type": "code",
   "execution_count": 2,
   "id": "27f8653b",
   "metadata": {},
   "outputs": [],
   "source": [
    "def Patch(data,height_index,width_index,PATCH_SIZE):   # PATCH_SIZE为一个patch（边长-1）的一半    data维度(H,W,C)\n",
    "    height_slice = slice(height_index-PATCH_SIZE, height_index+PATCH_SIZE)\n",
    "    width_slice = slice(width_index-PATCH_SIZE, width_index+PATCH_SIZE)\n",
    "    # 由height_index和width_index定位patch中心像素\n",
    "    patch = data[height_slice, width_slice,:]\n",
    "    patch = patch.reshape(-1,patch.shape[0]*patch.shape[1]*patch.shape[2])\n",
    "    # print(patch.shape) \n",
    "    return patch"
   ]
  },
  {
   "cell_type": "code",
   "execution_count": 3,
   "id": "cc92db39",
   "metadata": {},
   "outputs": [
    {
     "name": "stdout",
     "output_type": "stream",
     "text": [
      "(2517, 2335, 128)\n",
      "19\n"
     ]
    },
    {
     "data": {
      "text/plain": [
       "'19'"
      ]
     },
     "execution_count": 3,
     "metadata": {},
     "output_type": "execute_result"
    }
   ],
   "source": [
    "img = h5py.File('../../dataset/4_Chikusei/Chikusei_MATLAB/HyperspecVNIR_Chikusei_20140729.mat')['chikusei']\n",
    "gt = loadmat('../../dataset/4_Chikusei/Chikusei_MATLAB/HyperspecVNIR_Chikusei_20140729_Ground_Truth.mat')['GT'][0][0][0]\n",
    "img = np.array(img).transpose((2, 1, 0))\n",
    "print(img.shape) \n",
    "'''\n",
    "(2517, 2335, 128)\n",
    "'''\n",
    "\n",
    "print(gt.max())\n",
    "\n",
    "'''19'''"
   ]
  },
  {
   "cell_type": "code",
   "execution_count": 4,
   "id": "4a44b411",
   "metadata": {},
   "outputs": [
    {
     "name": "stdout",
     "output_type": "stream",
     "text": [
      "(2517, 2335, 100)\n"
     ]
    },
    {
     "data": {
      "text/plain": [
       "numpy.ndarray"
      ]
     },
     "execution_count": 4,
     "metadata": {},
     "output_type": "execute_result"
    }
   ],
   "source": [
    "'''\n",
    "波段处理\n",
    "'''\n",
    "bands_select = [10, 11, 12, 13, 14, 15, 16, 17, 18, 19, 20, 21, 22, 23, 24, 25, 26, 27, 28, 29, 36, 37, 38, 39, 40, 53, 54, 55, 56, 57, 58, 59, 60, 61, 62, 63, 64, 66, 67, 68, 69, 70, 71, 72, 73, 74, 75, 76, 77, 78, 79, 80, 81, 82, 83, 84, 85, 86, 87, 88, 89, 90, 91, 92, 93, 94, 95, 96, 97, 98, 99, 100, 101, 102, 103, 104, 105, 106, 107, 108, 109, 110, 111, 112, 113, 114, 115, 116, 117, 118, 119, 120, 121, 122, 123, 124, 125, 126, 127, 128]\n",
    "for i in range(len(bands_select)):\n",
    "    bands_select[i] = bands_select[i] - 1 \n",
    "# print(bands_select)\n",
    "\n",
    "'''\n",
    "波段选择\n",
    "'''\n",
    "img = img[:, :, bands_select]\n",
    "print(img.shape)\n",
    "'''(2517, 2335, 100)'''\n",
    "'''\n",
    "图像归一化\n",
    "'''\n",
    "img = ( img * 1.0 - img.min() ) / ( img.max() - img.min() )\n",
    "type(img)"
   ]
  },
  {
   "cell_type": "code",
   "execution_count": 5,
   "id": "f8afb2cb",
   "metadata": {},
   "outputs": [
    {
     "name": "stdout",
     "output_type": "stream",
     "text": [
      "19\n"
     ]
    }
   ],
   "source": [
    "[m, n, b] = img.shape\n",
    "label_num = gt.max()\n",
    "print(label_num)\n",
    "''' 19 除了0之外有19类'''\n",
    "PATCH_SIZE = 14"
   ]
  },
  {
   "cell_type": "code",
   "execution_count": 6,
   "id": "4b2b4ef4",
   "metadata": {},
   "outputs": [],
   "source": [
    "# padding the hyperspectral images\n",
    "img_temp = np.zeros((m + 2 * PATCH_SIZE, n + 2 * PATCH_SIZE, b), dtype=np.float32)\n",
    "img_temp[PATCH_SIZE:(m + PATCH_SIZE), PATCH_SIZE:(n + PATCH_SIZE), :] = img[:, :, :]\n",
    "\n",
    "for i in range(PATCH_SIZE):\n",
    "    img_temp[i, :, :] = img_temp[2 * PATCH_SIZE - i, :, :]\n",
    "    img_temp[m + PATCH_SIZE + i, :, :] = img_temp[m + PATCH_SIZE - i - 2, :, :]\n",
    "\n",
    "for i in range(PATCH_SIZE):\n",
    "    img_temp[:, i, :] = img_temp[:, 2 * PATCH_SIZE - i, :]\n",
    "    img_temp[:, n + PATCH_SIZE + i, :] = img_temp[:, n + PATCH_SIZE  - i - 2, :]\n",
    "\n",
    "img = img_temp\n",
    "del img_temp\n",
    "\n",
    "gt_temp = np.zeros((m + 2 * PATCH_SIZE, n + 2 * PATCH_SIZE), dtype=np.int8)\n",
    "gt_temp[PATCH_SIZE:(m + PATCH_SIZE), PATCH_SIZE:(n + PATCH_SIZE)] = gt[:, :]\n",
    "gt = gt_temp\n",
    "del gt_temp"
   ]
  },
  {
   "cell_type": "code",
   "execution_count": 7,
   "id": "5277200b",
   "metadata": {},
   "outputs": [
    {
     "name": "stdout",
     "output_type": "stream",
     "text": [
      "(2545, 2363, 100)\n",
      "(2545, 2363)\n"
     ]
    },
    {
     "data": {
      "text/plain": [
       "'\\n(2545, 2363, 100)\\n(2545, 2363)\\n'"
      ]
     },
     "execution_count": 7,
     "metadata": {},
     "output_type": "execute_result"
    }
   ],
   "source": [
    "print(img.shape)\n",
    "print(gt.shape)\n",
    "'''\n",
    "(2545, 2363, 100)\n",
    "(2545, 2363)\n",
    "'''"
   ]
  },
  {
   "cell_type": "code",
   "execution_count": 8,
   "id": "38919cf0",
   "metadata": {},
   "outputs": [],
   "source": [
    "[m, n, b] = img.shape\n",
    "\n",
    "data = []\n",
    "label = []\n",
    "count = 0"
   ]
  },
  {
   "cell_type": "code",
   "execution_count": 9,
   "id": "d72c9b16",
   "metadata": {},
   "outputs": [
    {
     "name": "stdout",
     "output_type": "stream",
     "text": [
      "77592\n"
     ]
    },
    {
     "data": {
      "text/plain": [
       "'\\n77592\\n'"
      ]
     },
     "execution_count": 9,
     "metadata": {},
     "output_type": "execute_result"
    }
   ],
   "source": [
    "for i in range(PATCH_SIZE, m - PATCH_SIZE):\n",
    "    for j in range(PATCH_SIZE, n - PATCH_SIZE):\n",
    "        if gt[i, j] == 0:\n",
    "            continue\n",
    "        else:\n",
    "            count += 1\n",
    "            temp_data = Patch(img, i, j, PATCH_SIZE)\n",
    "            # temp_label = np.zeros((1, label_num), dtype=np.int8)  # temp_label为一行九列[0,1,2,....,7,8]表示类别\n",
    "            temp_label = gt[i, j] - 1\n",
    "\n",
    "            data.append(temp_data)  # 每一行表示一个patch\n",
    "            label.append(temp_label)\n",
    "\n",
    "\n",
    "print(count)  \n",
    "'''\n",
    "77592\n",
    "'''"
   ]
  },
  {
   "cell_type": "code",
   "execution_count": 10,
   "id": "3f0adda6",
   "metadata": {},
   "outputs": [
    {
     "name": "stdout",
     "output_type": "stream",
     "text": [
      "<class 'list'> 77592\n"
     ]
    }
   ],
   "source": [
    "print(type(data), len(data))"
   ]
  },
  {
   "cell_type": "code",
   "execution_count": 11,
   "id": "44346b98",
   "metadata": {},
   "outputs": [
    {
     "name": "stdout",
     "output_type": "stream",
     "text": [
      "(77592, 1, 78400)\n",
      "squeeze :  (77592, 78400)\n",
      "(77592,)\n",
      "squeeze :  (77592,)\n"
     ]
    }
   ],
   "source": [
    "data = np.asarray(data)\n",
    "print(data.shape) \n",
    "# (77592, 1, 78400)\n",
    "\n",
    "data = np.squeeze(data)\n",
    "print(\"squeeze : \", data.shape)\n",
    "# squeeze :  (77592, 78400)\n",
    "\n",
    "label = np.asarray(label)\n",
    "print(label.shape)\n",
    "# (77592,)\n",
    "\n",
    "label = np.squeeze(label)\n",
    "print(\"squeeze : \", label.shape)\n",
    "# squeeze :  (77592,)"
   ]
  },
  {
   "cell_type": "code",
   "execution_count": 12,
   "id": "c964403f",
   "metadata": {},
   "outputs": [
    {
     "name": "stdout",
     "output_type": "stream",
     "text": [
      "<class 'numpy.ndarray'>\n",
      "{0: 0, 1: 0, 2: 0, 3: 0, 4: 0, 5: 0, 6: 0, 7: 0, 8: 0, 9: 0, 10: 0, 11: 0, 12: 0, 13: 0, 14: 0, 15: 0, 16: 0, 17: 0, 18: 0}\n",
      "{0: 2845, 1: 2859, 2: 286, 3: 4852, 4: 4297, 5: 1108, 6: 20516, 7: 6515, 8: 13369, 9: 1268, 10: 5961, 11: 2193, 12: 1220, 13: 7664, 14: 431, 15: 222, 16: 1040, 17: 801, 18: 145}\n",
      "77592\n"
     ]
    }
   ],
   "source": [
    "print(type(label))\n",
    "ch_dict = {}\n",
    "ch_dict = ch_dict.fromkeys([i for i in range(label_num)], 0)\n",
    "print(ch_dict)\n",
    "\n",
    "for i in label:\n",
    "    if i in ch_dict:\n",
    "        ch_dict[i] += 1\n",
    "print(ch_dict)\n",
    "ch_label_sum = sum(ch_dict.values())\n",
    "print(ch_label_sum)"
   ]
  },
  {
   "cell_type": "code",
   "execution_count": 14,
   "id": "cf6f7309",
   "metadata": {},
   "outputs": [],
   "source": [
    "indices = np.arange(data.shape[0])  # list [0,.....,42775]\n",
    "shuffled_indices = np.random.permutation(indices)\n",
    "images = data[shuffled_indices]\n",
    "labels = label[shuffled_indices]  # 打乱顺序\n",
    "\n",
    "y = labels  # 布尔索引\n",
    "# y 为一个list (42776,)  [0 1 6 ... 0 7 1]\n",
    "\n",
    "n_classes = y.max() + 1  # y.max() = 8  n_classes代表类别数为9\n",
    "t_labeled = []"
   ]
  },
  {
   "cell_type": "code",
   "execution_count": 15,
   "id": "8e5a231e",
   "metadata": {},
   "outputs": [],
   "source": [
    "# 改变类别数量---------------------------------------------------！！！！\n",
    "for c in range(n_classes-1):  # 第19类样本数量小于200\n",
    "    i = indices[y == c][:200]\n",
    "    t_labeled += list(i)  # 列表中元素增加"
   ]
  },
  {
   "cell_type": "code",
   "execution_count": 16,
   "id": "df02281a",
   "metadata": {},
   "outputs": [
    {
     "name": "stdout",
     "output_type": "stream",
     "text": [
      "t_images (3600, 78400)\n",
      "t_labels (3600,)\n"
     ]
    }
   ],
   "source": [
    "# 将其划分分训练和检验两个数据集\n",
    "t_images = images[t_labeled]\n",
    "print('t_images', t_images.shape)\n",
    "t_labels = labels[t_labeled]\n",
    "print('t_labels', t_labels.shape)\n",
    "# t_images (3600, 78400)\n",
    "# t_labels (3600,)"
   ]
  },
  {
   "cell_type": "code",
   "execution_count": 17,
   "id": "de8a34ce",
   "metadata": {},
   "outputs": [
    {
     "name": "stdout",
     "output_type": "stream",
     "text": [
      "success\n"
     ]
    }
   ],
   "source": [
    "f = h5py.File(r'../../h5dataset_ica_bandselect_200/CH-' + str(PATCH_SIZE * 2) + '-' + str(PATCH_SIZE * 2) + '-100.h5', 'w')  # 每类200个\n",
    "f['data'] = t_images\n",
    "f['label'] = t_labels\n",
    "f.close()\n",
    "\n",
    "\n",
    "f = h5py.File(r'../../h5dataset_ica_bandselect/CH-' + str(PATCH_SIZE * 2) + '-' + str(PATCH_SIZE * 2) + '-100.h5', 'w')  # 每类200个\n",
    "f['data'] = images\n",
    "f['label'] = labels\n",
    "f.close()\n",
    "\n",
    "print(\"success\")"
   ]
  },
  {
   "cell_type": "code",
   "execution_count": 18,
   "id": "5f092836",
   "metadata": {},
   "outputs": [
    {
     "name": "stdout",
     "output_type": "stream",
     "text": [
      "['data', 'label']\n"
     ]
    },
    {
     "ename": "MemoryError",
     "evalue": "Unable to allocate 22.7 GiB for an array with shape (77592, 78400) and data type float32",
     "output_type": "error",
     "traceback": [
      "\u001b[1;31m---------------------------------------------------------------------------\u001b[0m",
      "\u001b[1;31mMemoryError\u001b[0m                               Traceback (most recent call last)",
      "Cell \u001b[1;32mIn[18], line 9\u001b[0m\n\u001b[0;32m      5\u001b[0m \u001b[38;5;28mprint\u001b[39m([key \u001b[38;5;28;01mfor\u001b[39;00m key \u001b[38;5;129;01min\u001b[39;00m f\u001b[38;5;241m.\u001b[39mkeys()])\n\u001b[0;32m      7\u001b[0m \u001b[38;5;66;03m# print('first, we get values of x:', f['data'][:])\u001b[39;00m\n\u001b[0;32m      8\u001b[0m \u001b[38;5;66;03m# print('then, we get values of y:', f['label'][:])\u001b[39;00m\n\u001b[1;32m----> 9\u001b[0m \u001b[38;5;28mprint\u001b[39m(\u001b[43mf\u001b[49m\u001b[43m[\u001b[49m\u001b[38;5;124;43m'\u001b[39;49m\u001b[38;5;124;43mdata\u001b[39;49m\u001b[38;5;124;43m'\u001b[39;49m\u001b[43m]\u001b[49m\u001b[43m[\u001b[49m\u001b[43m:\u001b[49m\u001b[43m]\u001b[49m\u001b[38;5;241m.\u001b[39mshape)\n\u001b[0;32m     10\u001b[0m \u001b[38;5;28mprint\u001b[39m(f[\u001b[38;5;124m'\u001b[39m\u001b[38;5;124mlabel\u001b[39m\u001b[38;5;124m'\u001b[39m][:]\u001b[38;5;241m.\u001b[39mshape)\n",
      "File \u001b[1;32mh5py\\_objects.pyx:54\u001b[0m, in \u001b[0;36mh5py._objects.with_phil.wrapper\u001b[1;34m()\u001b[0m\n",
      "File \u001b[1;32mh5py\\_objects.pyx:55\u001b[0m, in \u001b[0;36mh5py._objects.with_phil.wrapper\u001b[1;34m()\u001b[0m\n",
      "File \u001b[1;32mD:\\Software\\DevelopEnvironment\\Miniconda\\envs\\dlpth112\\lib\\site-packages\\h5py\\_hl\\dataset.py:768\u001b[0m, in \u001b[0;36mDataset.__getitem__\u001b[1;34m(self, args, new_dtype)\u001b[0m\n\u001b[0;32m    766\u001b[0m \u001b[38;5;28;01mif\u001b[39;00m \u001b[38;5;28mself\u001b[39m\u001b[38;5;241m.\u001b[39m_fast_read_ok \u001b[38;5;129;01mand\u001b[39;00m (new_dtype \u001b[38;5;129;01mis\u001b[39;00m \u001b[38;5;28;01mNone\u001b[39;00m):\n\u001b[0;32m    767\u001b[0m     \u001b[38;5;28;01mtry\u001b[39;00m:\n\u001b[1;32m--> 768\u001b[0m         \u001b[38;5;28;01mreturn\u001b[39;00m \u001b[38;5;28;43mself\u001b[39;49m\u001b[38;5;241;43m.\u001b[39;49m\u001b[43m_fast_reader\u001b[49m\u001b[38;5;241;43m.\u001b[39;49m\u001b[43mread\u001b[49m\u001b[43m(\u001b[49m\u001b[43margs\u001b[49m\u001b[43m)\u001b[49m\n\u001b[0;32m    769\u001b[0m     \u001b[38;5;28;01mexcept\u001b[39;00m \u001b[38;5;167;01mTypeError\u001b[39;00m:\n\u001b[0;32m    770\u001b[0m         \u001b[38;5;28;01mpass\u001b[39;00m  \u001b[38;5;66;03m# Fall back to Python read pathway below\u001b[39;00m\n",
      "File \u001b[1;32mh5py\\_selector.pyx:368\u001b[0m, in \u001b[0;36mh5py._selector.Reader.read\u001b[1;34m()\u001b[0m\n",
      "File \u001b[1;32mh5py\\_selector.pyx:342\u001b[0m, in \u001b[0;36mh5py._selector.Reader.make_array\u001b[1;34m()\u001b[0m\n",
      "\u001b[1;31mMemoryError\u001b[0m: Unable to allocate 22.7 GiB for an array with shape (77592, 78400) and data type float32"
     ]
    }
   ],
   "source": [
    "#HDF5的读取\n",
    "f = h5py.File('../../h5dataset_ica_bandselect/CH-28-28-100.h5','r')   #打开h5文件  # 可以查看所有的主键  \n",
    "# print(type(f))\n",
    "\n",
    "print([key for key in f.keys()])\n",
    "\n",
    "# print('first, we get values of x:', f['data'][:])\n",
    "# print('then, we get values of y:', f['label'][:])\n",
    "print(f['data'][:].shape)\n",
    "print(f['label'][:].shape)"
   ]
  },
  {
   "cell_type": "code",
   "execution_count": 19,
   "id": "363ffa97",
   "metadata": {},
   "outputs": [
    {
     "name": "stdout",
     "output_type": "stream",
     "text": [
      "['data', 'label']\n",
      "(3600, 78400)\n",
      "(3600,)\n"
     ]
    }
   ],
   "source": [
    "#HDF5的读取\n",
    "f = h5py.File('../../h5dataset_ica_bandselect_200/CH-28-28-100.h5','r')   #打开h5文件  # 可以查看所有的主键  \n",
    "# print(type(f))\n",
    "\n",
    "print([key for key in f.keys()])\n",
    "\n",
    "# print('first, we get values of x:', f['data'][:])\n",
    "# print('then, we get values of y:', f['label'][:])\n",
    "print(f['data'][:].shape)\n",
    "print(f['label'][:].shape)"
   ]
  },
  {
   "cell_type": "code",
   "execution_count": 20,
   "id": "a66982a5",
   "metadata": {},
   "outputs": [
    {
     "name": "stdout",
     "output_type": "stream",
     "text": [
      "['data', 'label']\n",
      "(3600, 78400)\n",
      "(3600,)\n"
     ]
    }
   ],
   "source": [
    "#HDF5的读取\n",
    "f = h5py.File('../../h5dataset/CH-28-28-100.h5','r')   #打开h5文件  # 可以查看所有的主键  \n",
    "# print(type(f))\n",
    "\n",
    "print([key for key in f.keys()])\n",
    "\n",
    "# print('first, we get values of x:', f['data'][:])\n",
    "# print('then, we get values of y:', f['label'][:])\n",
    "print(f['data'][:].shape)\n",
    "print(f['label'][:].shape)"
   ]
  },
  {
   "cell_type": "code",
   "execution_count": null,
   "id": "3538687d",
   "metadata": {},
   "outputs": [],
   "source": []
  }
 ],
 "metadata": {
  "kernelspec": {
   "display_name": "DLPTH112",
   "language": "python",
   "name": "pth112"
  },
  "language_info": {
   "codemirror_mode": {
    "name": "ipython",
    "version": 3
   },
   "file_extension": ".py",
   "mimetype": "text/x-python",
   "name": "python",
   "nbconvert_exporter": "python",
   "pygments_lexer": "ipython3",
   "version": "3.9.16"
  }
 },
 "nbformat": 4,
 "nbformat_minor": 5
}
